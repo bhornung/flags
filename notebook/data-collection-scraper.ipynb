{
 "cells": [
  {
   "cell_type": "code",
   "execution_count": 68,
   "metadata": {},
   "outputs": [],
   "source": [
    "import os.path\n",
    "import re\n",
    "import sys\n",
    "import time\n",
    "\n",
    "import requests\n",
    "import lxml.html as lh"
   ]
  },
  {
   "cell_type": "code",
   "execution_count": 69,
   "metadata": {},
   "outputs": [],
   "source": [
    "year_pattern = re.compile('\\s\\d{4}')"
   ]
  },
  {
   "cell_type": "code",
   "execution_count": 80,
   "metadata": {},
   "outputs": [],
   "source": [
    "def load_page(url):\n",
    "    \n",
    "    try:\n",
    "        response = requests.get(url)\n",
    "    except Exception as err:\n",
    "        raise err\n",
    "    \n",
    "    if response.status_code != 200:\n",
    "        print(\"fasz2\", response.status_code, url)\n",
    "        requests.exceptions.HTTPError(\"failed to download: {0}\".format(url))\n",
    "        \n",
    "    return response"
   ]
  },
  {
   "cell_type": "code",
   "execution_count": 71,
   "metadata": {},
   "outputs": [],
   "source": [
    "def process_response(response):\n",
    "    \n",
    "    tree = lh.fromstring(response.content)\n",
    "    \n",
    "    # get image url\n",
    "    cname, image_url = extract_image_url(tree)\n",
    "    \n",
    "    # create image name\n",
    "    image_path = os.path.join(r'C:\\Users\\hornu\\OneDrive\\Documents\\repos\\flags\\data\\clean-data\\big-images', cname + '.png')\n",
    "    print(image_path)\n",
    "    # download image\n",
    "    download_image(image_url, image_path)\n",
    "    \n",
    "    # get year\n",
    "    year = extract_year(tree)\n",
    "    \n",
    "    return cname, year, image_path"
   ]
  },
  {
   "cell_type": "code",
   "execution_count": 72,
   "metadata": {},
   "outputs": [],
   "source": [
    "def download_image(url, path):\n",
    "    \n",
    "    response = requests.get(url)\n",
    "    with open(path, 'wb') as fproc:\n",
    "        fproc.write(response.content)"
   ]
  },
  {
   "cell_type": "code",
   "execution_count": 73,
   "metadata": {},
   "outputs": [],
   "source": [
    "def extract_image_url(tree):\n",
    "    \n",
    "    node = tree.find('.//article/p[@id=\"flag-detail\"]/img')\n",
    "    \n",
    "    cname_ = node.attrib['alt'].lower().replace('flag of ', '')\n",
    "    image_url = 'http:' + node.attrib['src']\n",
    "    \n",
    "    return cname_, image_url"
   ]
  },
  {
   "cell_type": "code",
   "execution_count": 74,
   "metadata": {},
   "outputs": [],
   "source": [
    "def extract_year(tree):\n",
    "    \n",
    "    blurb = tree.find('.//article/div[@id=\"flag-content\"]').text_content()\n",
    "  \n",
    "    years = year_pattern.findall(blurb)\n",
    "    years = [int(x.strip()) for x in years]\n",
    "    \n",
    "    if len(years) > 0:\n",
    "        latest_year = max(years)\n",
    "    else:\n",
    "        latest_year = 9999\n",
    "        \n",
    "    return latest_year"
   ]
  },
  {
   "cell_type": "code",
   "execution_count": 82,
   "metadata": {},
   "outputs": [],
   "source": [
    "with open(r'C:\\Users\\hornu\\OneDrive\\Documents\\repos\\flags\\data\\raw-data\\raw-url.txt', 'r') as fproc:\n",
    "    urls = fproc.readlines()\n",
    "    \n",
    "urls = [x.strip() for x in urls]"
   ]
  },
  {
   "cell_type": "code",
   "execution_count": 91,
   "metadata": {},
   "outputs": [
    {
     "name": "stdout",
     "output_type": "stream",
     "text": [
      "C:\\Users\\hornu\\OneDrive\\Documents\\repos\\flags\\data\\clean-data\\images\\united kingdom.png\n",
      "('united kingdom', 1801, 'C:\\\\Users\\\\hornu\\\\OneDrive\\\\Documents\\\\repos\\\\flags\\\\data\\\\clean-data\\\\images\\\\united kingdom.png')\n",
      "C:\\Users\\hornu\\OneDrive\\Documents\\repos\\flags\\data\\clean-data\\images\\saint vincent and the grenadines.png\n",
      "('saint vincent and the grenadines', 1979, 'C:\\\\Users\\\\hornu\\\\OneDrive\\\\Documents\\\\repos\\\\flags\\\\data\\\\clean-data\\\\images\\\\saint vincent and the grenadines.png')\n",
      "C:\\Users\\hornu\\OneDrive\\Documents\\repos\\flags\\data\\clean-data\\images\\east timor.png\n",
      "('east timor', 2002, 'C:\\\\Users\\\\hornu\\\\OneDrive\\\\Documents\\\\repos\\\\flags\\\\data\\\\clean-data\\\\images\\\\east timor.png')\n",
      "C:\\Users\\hornu\\OneDrive\\Documents\\repos\\flags\\data\\clean-data\\images\\solomon islands.png\n",
      "('solomon islands', 1977, 'C:\\\\Users\\\\hornu\\\\OneDrive\\\\Documents\\\\repos\\\\flags\\\\data\\\\clean-data\\\\images\\\\solomon islands.png')\n"
     ]
    }
   ],
   "source": [
    "res = []\n",
    "for url in urls:\n",
    "    try:\n",
    "        response = load_page(url)\n",
    "        res.append(process_response(response))\n",
    "    except:\n",
    "        pass  \n",
    "    time.sleep(0.3)"
   ]
  },
  {
   "cell_type": "code",
   "execution_count": 90,
   "metadata": {},
   "outputs": [],
   "source": [
    "#with open('flag-details.csv','w') as fproc:\n",
    "#    for x in res:\n",
    "#        fproc.write('{0}\\t{1}\\t{2}\\n'.format(*x))"
   ]
  }
 ],
 "metadata": {
  "kernelspec": {
   "display_name": "Python 3",
   "language": "python",
   "name": "python3"
  },
  "language_info": {
   "codemirror_mode": {
    "name": "ipython",
    "version": 3
   },
   "file_extension": ".py",
   "mimetype": "text/x-python",
   "name": "python",
   "nbconvert_exporter": "python",
   "pygments_lexer": "ipython3",
   "version": "3.6.6"
  }
 },
 "nbformat": 4,
 "nbformat_minor": 2
}

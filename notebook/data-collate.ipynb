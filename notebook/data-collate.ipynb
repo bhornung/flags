{
 "cells": [
  {
   "cell_type": "code",
   "execution_count": 1,
   "metadata": {},
   "outputs": [],
   "source": [
    "from functools import reduce\n",
    "import json\n",
    "import os.path\n",
    "import sys\n",
    "\n",
    "import matplotlib.pyplot as plt\n",
    "from imageio import imread\n",
    "\n",
    "import pandas as pd\n",
    "\n",
    "sys.path.append(r'C:\\Users\\hornu\\OneDrive\\Documents\\repos\\flags\\scripts\\image-scripts')\n",
    "from image_scaler_cleaner import ImageScalerCleaner"
   ]
  },
  {
   "cell_type": "code",
   "execution_count": 2,
   "metadata": {},
   "outputs": [],
   "source": [
    "p_flag = r'C:\\Users\\hornu\\OneDrive\\Documents\\repos\\flags\\data\\clean-data\\flag-details.csv'\n",
    "p_codes = r'C:\\Users\\hornu\\OneDrive\\Documents\\repos\\flags\\data\\clean-data\\clean-country-codes.csv'\n",
    "p_religion = r'C:\\Users\\hornu\\OneDrive\\Documents\\repos\\flags\\data\\clean-data\\clean-religions.csv'\n",
    "p_independence = r'C:\\Users\\hornu\\OneDrive\\Documents\\repos\\flags\\data\\clean-data\\clean-independence.csv'\n",
    "\n",
    "df_flag = pd.read_csv(p_flag, sep = '\\t')\n",
    "df_codes = pd.read_csv(p_codes, sep = '\\t', keep_default_na = False)\n",
    "df_religion = pd.read_csv(p_religion, sep = '\\t')\n",
    "df_independence = pd.read_csv(p_independence, sep = '\\t')\n",
    "\n",
    "df_flag.index = df_flag.index.str.upper()\n",
    "\n",
    "dfs = [df_flag, df_codes, df_religion, df_independence]"
   ]
  },
  {
   "cell_type": "code",
   "execution_count": 3,
   "metadata": {},
   "outputs": [
    {
     "name": "stdout",
     "output_type": "stream",
     "text": [
      "0 1 set()\n",
      "0 2 set()\n",
      "0 3 set()\n",
      "1 2 set()\n",
      "1 3 set()\n",
      "2 3 set()\n"
     ]
    }
   ],
   "source": [
    "#  check for missing countries or inconsistently named ones\n",
    "for idx1, df1 in enumerate(dfs):\n",
    "    for idx2, df2 in enumerate(dfs[idx1+1:]):\n",
    "        print(idx1, idx2 + idx1 + 1, set(df1.index).symmetric_difference(set(df2.index)))"
   ]
  },
  {
   "cell_type": "code",
   "execution_count": 4,
   "metadata": {},
   "outputs": [],
   "source": [
    "df_merged = pd.concat(dfs, axis = 1, sort = False)\n",
    "\n",
    "# create dict of countries\n",
    "countries_dict = df_merged.to_dict(orient = 'index')"
   ]
  },
  {
   "cell_type": "code",
   "execution_count": 5,
   "metadata": {},
   "outputs": [],
   "source": [
    "# read land and maritime borders\n",
    "\n",
    "with open(r'C:\\Users\\hornu\\OneDrive\\Documents\\repos\\flags\\data\\clean-data\\lbcc.json', 'r') as fproc:\n",
    "    lb_dict = json.load(fproc)\n",
    "    lb_dict = {k : list(v.keys()) for k, v in lb_dict.items()}\n",
    "    \n",
    "with open(r'C:\\Users\\hornu\\OneDrive\\Documents\\repos\\flags\\data\\clean-data\\mbcc.json', 'r') as fproc:\n",
    "    mb_dict = json.load(fproc)"
   ]
  },
  {
   "cell_type": "code",
   "execution_count": 6,
   "metadata": {},
   "outputs": [],
   "source": [
    "# merge land maritime borders\n",
    "\n",
    "ab_dict = dict(mb_dict.items())\n",
    "\n",
    "for k, v in lb_dict.items():\n",
    "    if k in ab_dict:\n",
    "        ab_dict[k].extend([x for x in v if not x in ab_dict[k]])\n",
    "    else:\n",
    "        ab_dict.update({k : v})"
   ]
  },
  {
   "cell_type": "code",
   "execution_count": 7,
   "metadata": {},
   "outputs": [],
   "source": [
    "# merge with neighbours\n",
    "# remove unwanted fields\n",
    "\n",
    "for k, v in countries_dict.items():\n",
    "    v.update({'neighbours' : ab_dict[v['code']]})\n",
    "    _ = v.pop('codeint')\n",
    "    _ = v.pop('code3')\n",
    "    _ = v.pop('power')"
   ]
  },
  {
   "cell_type": "code",
   "execution_count": 8,
   "metadata": {},
   "outputs": [],
   "source": [
    "with open(r'C:\\Users\\hornu\\OneDrive\\Documents\\repos\\flags\\data\\clean-data\\countries-master.json' , 'w') as fproc:\n",
    "    json.dump(countries_dict, fproc, indent = 4)"
   ]
  },
  {
   "cell_type": "code",
   "execution_count": 5,
   "metadata": {},
   "outputs": [],
   "source": [
    "with open(r'C:\\Users\\hornu\\OneDrive\\Documents\\repos\\flags\\data\\clean-data\\clean-countries-master.json', 'r') as fproc:\n",
    "    country_dict = json.load(fproc)"
   ]
  },
  {
   "cell_type": "code",
   "execution_count": 6,
   "metadata": {},
   "outputs": [],
   "source": [
    "country_list = [x[1] for x in ((v.update({'name' : k}), v) for k, v in country_dict.items())]"
   ]
  },
  {
   "cell_type": "code",
   "execution_count": 7,
   "metadata": {},
   "outputs": [],
   "source": [
    "import pymongo"
   ]
  },
  {
   "cell_type": "code",
   "execution_count": 4,
   "metadata": {},
   "outputs": [
    {
     "data": {
      "text/plain": [
       "['admin', 'config', 'flags', 'local']"
      ]
     },
     "execution_count": 4,
     "metadata": {},
     "output_type": "execute_result"
    }
   ],
   "source": [
    "mg_client = pymongo.MongoClient(\"mongodb://localhost:27017/\")\n",
    "mg_client.list_database_names()"
   ]
  },
  {
   "cell_type": "code",
   "execution_count": 8,
   "metadata": {},
   "outputs": [],
   "source": [
    "# create database\n",
    "\n",
    "db_flag = mg_client[\"flags\"]\n",
    "cl_countries_raw = db_flag[\"raw_countries\"]\n",
    "id_docs = cl_countries_raw.insert_many(country_list)\n"
   ]
  },
  {
   "cell_type": "code",
   "execution_count": 46,
   "metadata": {},
   "outputs": [
    {
     "ename": "TypeError",
     "evalue": "close_cursor() missing 1 required positional argument: 'cursor_id'",
     "output_type": "error",
     "traceback": [
      "\u001b[1;31m---------------------------------------------------------------------------\u001b[0m",
      "\u001b[1;31mTypeError\u001b[0m                                 Traceback (most recent call last)",
      "\u001b[1;32m<ipython-input-46-613c15166c35>\u001b[0m in \u001b[0;36m<module>\u001b[1;34m\u001b[0m\n\u001b[1;32m----> 1\u001b[1;33m \u001b[0mmg_client\u001b[0m\u001b[1;33m.\u001b[0m\u001b[0mclose_cursor\u001b[0m\u001b[1;33m(\u001b[0m\u001b[1;33m)\u001b[0m\u001b[1;33m\u001b[0m\u001b[0m\n\u001b[0m",
      "\u001b[1;31mTypeError\u001b[0m: close_cursor() missing 1 required positional argument: 'cursor_id'"
     ]
    }
   ],
   "source": [
    "mg_client[\"flgas\"]"
   ]
  }
 ],
 "metadata": {
  "kernelspec": {
   "display_name": "Python 3",
   "language": "python",
   "name": "python3"
  },
  "language_info": {
   "codemirror_mode": {
    "name": "ipython",
    "version": 3
   },
   "file_extension": ".py",
   "mimetype": "text/x-python",
   "name": "python",
   "nbconvert_exporter": "python",
   "pygments_lexer": "ipython3",
   "version": "3.6.6"
  }
 },
 "nbformat": 4,
 "nbformat_minor": 2
}

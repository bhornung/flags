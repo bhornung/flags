{
 "cells": [
  {
   "cell_type": "code",
   "execution_count": 1,
   "metadata": {},
   "outputs": [],
   "source": [
    "from itertools import chain\n",
    "import os.path\n",
    "import re\n",
    "import sys\n",
    "\n",
    "import pandas as pd"
   ]
  },
  {
   "cell_type": "code",
   "execution_count": 2,
   "metadata": {},
   "outputs": [],
   "source": [
    "re_year = re.compile('^\\d{4}$')"
   ]
  },
  {
   "cell_type": "code",
   "execution_count": 16,
   "metadata": {},
   "outputs": [],
   "source": [
    "def get_year(string, n_matches = 1, default = 9999, squeeze = True):\n",
    "    \n",
    "    components = string.split()\n",
    "    components = [x.strip(',').strip() for x in components]\n",
    "    \n",
    "    matches = list(chain(*[re_year.findall(x) for x in components]))\n",
    "    matches.extend([default]*(n_matches - len(matches)))\n",
    "    \n",
    "    if n_matches == 1 and squeeze:\n",
    "        return matches[0]\n",
    "    else:\n",
    "        return matches[:n_matches]"
   ]
  },
  {
   "cell_type": "code",
   "execution_count": 41,
   "metadata": {},
   "outputs": [],
   "source": [
    "path_to_db = r'C:\\Users\\hornu\\OneDrive\\Documents\\repos\\flags\\data\\raw-data\\independence.csv'\n",
    "df = pd.read_csv(path_to_db, sep = '\\t', header = 0)\n",
    "df['founded'] = df.founded.apply(lambda x: get_year(x))\n",
    "df['independent'] = df.independent.apply(lambda x: get_year(x))\n",
    "df['name'] = df.name.apply(lambda x: x.upper())\n",
    "df['continent'] = df.continent.apply(lambda x: x.upper())\n",
    "df['subjected'] = df['subjected'].apply(lambda x: x.upper())\n",
    "\n",
    "#path_to_clean_db = r'C:\\Users\\hornu\\OneDrive\\Documents\\repos\\flags\\data\\raw-data\\clean-independence.csv'\n",
    "#df.to_csv(path_to_clean_db,sep = '\\t')"
   ]
  },
  {
   "cell_type": "code",
   "execution_count": 42,
   "metadata": {},
   "outputs": [],
   "source": [
    "path_to_db = r'C:\\Users\\hornu\\OneDrive\\Documents\\repos\\flags\\data\\raw-data\\country-codes.csv'\n",
    "df = pd.read_csv(path_to_db, sep = '\\t', header = 0)\n",
    "df['name'] = df['name'].apply(lambda x: x.upper())\n",
    "#path_to_clean_db = r'C:\\Users\\hornu\\OneDrive\\Documents\\repos\\flags\\data\\raw-data\\clean-country-codes.csv'\n",
    "#df.to_csv(path_to_clean_db, sep = '\\t')"
   ]
  },
  {
   "cell_type": "code",
   "execution_count": 52,
   "metadata": {},
   "outputs": [],
   "source": [
    "path_to_db = r'C:\\Users\\hornu\\OneDrive\\Documents\\repos\\flags\\data\\raw-data\\religions.csv'\n",
    "df = pd.read_csv(path_to_db, sep = '\\t', header = 0)\n",
    "df['name'] = df['name'].apply(lambda x: x.upper().strip())\n",
    "#path_to_clean_db = r'C:\\Users\\hornu\\OneDrive\\Documents\\repos\\flags\\data\\raw-data\\clean-religions.csv'"
   ]
  }
 ],
 "metadata": {
  "kernelspec": {
   "display_name": "Python 3",
   "language": "python",
   "name": "python3"
  },
  "language_info": {
   "codemirror_mode": {
    "name": "ipython",
    "version": 3
   },
   "file_extension": ".py",
   "mimetype": "text/x-python",
   "name": "python",
   "nbconvert_exporter": "python",
   "pygments_lexer": "ipython3",
   "version": "3.6.6"
  }
 },
 "nbformat": 4,
 "nbformat_minor": 2
}

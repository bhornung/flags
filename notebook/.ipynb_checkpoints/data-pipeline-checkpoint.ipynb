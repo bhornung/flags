{
 "cells": [
  {
   "cell_type": "code",
   "execution_count": 130,
   "metadata": {},
   "outputs": [],
   "source": [
    "import bz2\n",
    "import lzma\n",
    "import pickle\n",
    "import json\n",
    "import os.path\n",
    "import sys\n",
    "import time\n",
    "\n",
    "from imageio import imread\n",
    "import numpy as np\n",
    "import matplotlib.pyplot as plt\n",
    "\n",
    "import numba as nb\n",
    "nb_u1 = nb.types.uint8\n",
    "nb_u2 = nb.types.uint16\n",
    "\n",
    "import pymongo\n",
    "\n",
    "sys.path.append(r'C:\\Users\\hornu\\OneDrive\\Documents\\repos\\flags\\scripts\\image-scripts')\n",
    "from image_scaler_cleaner import ImageScalerCleaner"
   ]
  },
  {
   "cell_type": "markdown",
   "metadata": {},
   "source": [
    "A concise document based database is created in which textual, numeric and image data are stored.\n",
    "\n",
    "\n",
    "## Motivation\n",
    "\n",
    "\n"
   ]
  },
  {
   "cell_type": "markdown",
   "metadata": {},
   "source": [
    "## Database design\n",
    "\n",
    "\n",
    "### Preliminary data structure\n",
    "\n",
    "The current database, `flags` "
   ]
  },
  {
   "cell_type": "code",
   "execution_count": 2,
   "metadata": {},
   "outputs": [
    {
     "name": "stdout",
     "output_type": "stream",
     "text": [
      "['admin', 'config', 'flags', 'local']\n"
     ]
    }
   ],
   "source": [
    "mg_client = pymongo.MongoClient(\"mongodb://localhost:27017/\")\n",
    "print(mg_client.list_database_names())"
   ]
  },
  {
   "cell_type": "markdown",
   "metadata": {},
   "source": [
    "consists of a single collection, `raw_countries`:"
   ]
  },
  {
   "cell_type": "code",
   "execution_count": 3,
   "metadata": {},
   "outputs": [
    {
     "name": "stdout",
     "output_type": "stream",
     "text": [
      "['raw_countries']\n"
     ]
    }
   ],
   "source": [
    "db_flag = mg_client[\"flags\"]\n",
    "print(db_flag.list_collection_names())"
   ]
  },
  {
   "cell_type": "markdown",
   "metadata": {},
   "source": [
    "in which each document lists the attributes of a particular country:"
   ]
  },
  {
   "cell_type": "code",
   "execution_count": 4,
   "metadata": {},
   "outputs": [
    {
     "data": {
      "text/plain": [
       "{'_id': ObjectId('5cadf3ff351ab01d60a664b2'),\n",
       " 'adapted': 2004,\n",
       " 'path': 'C:\\\\Users\\\\hornu\\\\OneDrive\\\\Documents\\\\repos\\\\flags\\\\data\\\\clean-data\\\\images\\\\afghanistan.png',\n",
       " 'code': 'AF',\n",
       " 'religion': 'ISLAM',\n",
       " 'continent': 'ASIA',\n",
       " 'founded': 9999,\n",
       " 'independent': '1823',\n",
       " 'neighbours': ['CN', 'IR', 'PK', 'TJ', 'TM', 'UZ'],\n",
       " 'name': 'AFGHANISTAN'}"
      ]
     },
     "execution_count": 4,
     "metadata": {},
     "output_type": "execute_result"
    }
   ],
   "source": [
    "cl_flag = db_flag[\"raw_countries\"]\n",
    "cl_flag.find_one({})"
   ]
  },
  {
   "cell_type": "markdown",
   "metadata": {},
   "source": [
    "The fields are either pertaining to the country herself:\n",
    "\n",
    "* `name` : name of the country\n",
    "* `code` : two-letter iso code of the country\n",
    "* `founded` : year in which her or her ancestor was founded. 9999 stands for missing data\n",
    "* `independent` : year in which the country became independent\n",
    "* `religion` : predominant religion in the country\n",
    "* `continent` : continent on which the major landmass of the country situated\n",
    "* `neighbours` : the two letter iso codes of its neighbours\n",
    "\n",
    "or to its flag:\n",
    "* `adapted` : year in which the current flag was introduced\n",
    "* `path` : path to the `png` image of the flag in local store\n",
    "\n",
    "### Design goals\n",
    "\n",
    "We wish to store these pieces of information in a more orderly fashion. The fields relevant to the country should be contained in a document separated from those relevant to the flag itself. Two collections will thus be created \n",
    "\n",
    "* `countries` and\n",
    "* `flags`\n",
    "\n",
    "#### Country document\n",
    "\n",
    "A country document will have three main fields\n",
    "* `_id` : unique id\n",
    "* `code` : two-letter iso code of the country\n",
    "* `data` : all other fields\n",
    "    * `name` : name of the country\n",
    "    * `founded` :  year in which her or her ancestor was founded\n",
    "    * ...\n",
    "    \n",
    "The country codes of the `neighbours` list will be replaced by the respective `_id`-s. This implies, the collection must be built in two passes.\n",
    "\n",
    "#### Flag document\n",
    "\n",
    "The flags are stored in a different collection. The schema of a document is the following\n",
    "\n",
    "* `_id` : unique id\n",
    "* `code` : two letter country code\n",
    "* `data` : information on the flag\n",
    "    * `adapted` : year in which the current flag was introduced\n",
    "    * `colours` : a dictionary in which the flag's constituent colours are listed along with their weights\n",
    "    * `dimensions` : a dictionary of height and width\n",
    "    * `canvas` : the flag itself\n",
    "    \n",
    "\n",
    "## Implementation\n",
    "\n",
    "We set out to implement all the transformations that are required to create the new database.\n",
    "\n",
    "### Flags\n",
    "\n",
    "The main issue is to find an efficient format for storing the canvas of the flag. We went at [great length](https://bhornung.github.io/python/2019/04/09/flags-1.html) to rig the flag of spurious colours, therefore any lossy compression is out of question. \n",
    "\n",
    "#### Copressing the flag\n",
    "\n",
    "The cleaned image is a 3D `uint8` numpy array.  Let us assume an average flag has $500 \\cot 1000$ pixels. Each pixel consists of three meaningful channels (R, G, B). It is then represented in the memory as an array of of size $500 \\cdot 1000 \\cdot 3 = 1.5 \\cdot 10^{6}$ This corresponds to 1.5MBs per image. We wish to make our objects as small as possible so that they travel through the network and memory quickly.\n",
    "\n",
    "There are multiple paths to achieve this:\n",
    "* `numpy` array $\\rightarrow$ pickled object $\\rightarrow$ `bzip`-ed object $\\rightarrow$ Binary field in mongodb\n",
    "* `numpy` array $\\rightarrow$ compressed/modified `numpy` array $\\rightarrow$ pickled object $\\rightarrow$ Binary field in `mongodb`\n",
    "* `numpy` array $\\rightarrow$ compressed/modified `numpy` array $\\rightarrow$ pickled object $\\rightarrow$ `bzip`-ed object $\\rightarrow$ Binary field in `mongodb`\n",
    "\n",
    "In the first route the pickled array is compressed. These images compress really well, for there are many similar byte sequences corresponding to identical colours. The drawback is that the image has to be manipulated by `bz2` which can be slow.\n",
    "\n",
    "Following he second path one modifies the numpy array to an other one of considerably smaller size whilst retaining all the spatial information. This array is then pickled. In this case the unpickled object can be used by numpy straight away.\n",
    "\n",
    "The third one might be overkill. "
   ]
  },
  {
   "cell_type": "code",
   "execution_count": 32,
   "metadata": {},
   "outputs": [],
   "source": [
    "@nb.jit(nopython = True)\n",
    "def compress_image(X):\n",
    "    \n",
    "    ir, jr, _ = X.shape\n",
    "    coo = []\n",
    "    \n",
    "    for i in range(ir):\n",
    "        \n",
    "        for j in range(0, jr - 1):\n",
    "            \n",
    "            # append end of color region and colour\n",
    "            if X[i, j, 0] != X[i, j+1, 0] or \\\n",
    "               X[i, j, 1] != X[i, j+1, 1] or \\\n",
    "               X[i, j, 2] != X[i, j+1, 2] :\n",
    "                \n",
    "                coo.append([i, j + 1, X[i, j, 0], X[i, j, 1], X[i, j, 2]])\n",
    "        \n",
    "        # last colour in a row\n",
    "        coo.append([i, j + 2, X[i, -1, 0], X[i, -1, 1], X[i, -1, 2]])      \n",
    "          \n",
    "    # convert to np.ndarray\n",
    "    compressed = np.array(coo, dtype = np.uint16)\n",
    "    \n",
    "    return compressed"
   ]
  },
  {
   "cell_type": "code",
   "execution_count": 101,
   "metadata": {},
   "outputs": [],
   "source": [
    "@nb.jit(nopython = True)\n",
    "def decompress_images(X):\n",
    "    \n",
    "    h = np.int64(X[-1, 0] + 1)\n",
    "    v = np.int64(X[-1, 1])\n",
    "    \n",
    "    decompressed = np.zeros((h, v, 3), dtype = np.uint16)\n",
    "     \n",
    "    i_old = -1\n",
    "    j_old = 0\n",
    "    \n",
    "    for k in range(X.shape[0]):\n",
    "        \n",
    "        i = X[k,0]\n",
    "        j = X[k,1] \n",
    "        c1 = X[k,2] \n",
    "        c2 = X[k,3]\n",
    "        c3 = X[k,4]\n",
    "        \n",
    "        if i != i_old:\n",
    "            j_old = 0\n",
    "        \n",
    "        decompressed[i, j_old : j, 0] = c1\n",
    "        decompressed[i, j_old : j, 1] = c2\n",
    "        decompressed[i, j_old : j, 2] = c3\n",
    "        i_old, j_old = i, j\n",
    "\n",
    "    return decompressed"
   ]
  },
  {
   "cell_type": "code",
   "execution_count": 297,
   "metadata": {},
   "outputs": [],
   "source": [
    "@nb.jit(nopython = True)\n",
    "def compress_image2(X):\n",
    "    \n",
    "    ir, jr, _ = X.shape\n",
    "    coo = []\n",
    "    \n",
    "    r_s, c_s = 0, 0\n",
    "    c_old = X[0, 0]\n",
    "    \n",
    "    for i in range(ir):\n",
    "        \n",
    "        for j in range(0, jr):\n",
    "            \n",
    "            # append end of color region and colour\n",
    "            if X[i, j, 0] != c_old[0] or \\\n",
    "               X[i, j, 1] != c_old[1] or \\\n",
    "               X[i, j, 2] != c_old[2]:\n",
    "                \n",
    "                if j == 0:\n",
    "                    coo.append([r_s, c_s, i - 1, jr, c_old[0], c_old[1], c_old[2]])\n",
    "                    \n",
    "                else:\n",
    "                    coo.append([r_s, c_s, i, j, c_old[0], c_old[1], c_old[2]])\n",
    "                    \n",
    "                c_old = X[i, j]\n",
    "                r_s, c_s = i, j\n",
    "        \n",
    "    coo.append([r_s, c_s, ir - 1, jr, c_old[0], c_old[1], c_old[2]])\n",
    "          \n",
    "    # convert to np.ndarray\n",
    "    compressed = np.array(coo, dtype = np.uint16)\n",
    "    \n",
    "    return compressed"
   ]
  },
  {
   "cell_type": "code",
   "execution_count": 298,
   "metadata": {},
   "outputs": [],
   "source": [
    "@nb.jit(nopython = True)\n",
    "def decompress_image2(X):\n",
    "    \n",
    "    h = np.int64(X[-1, 2] + 1)\n",
    "    v = np.int64(X[-1, 3])\n",
    "    \n",
    "    decompressed = np.zeros((h, v, 3), dtype = np.uint16)\n",
    "     \n",
    "    i_old = -1\n",
    "    j_old = 0\n",
    "    \n",
    "    for k in range(X.shape[0]):\n",
    "        \n",
    "        r_s = X[k,0]\n",
    "        c_s = X[k,1]\n",
    "        r_e = X[k,2]\n",
    "        c_e = X[k,3]\n",
    "        c1 = X[k,4] \n",
    "        c2 = X[k,5]\n",
    "        c3 = X[k,6]\n",
    "        \n",
    "        if r_s == r_e:\n",
    "            decompressed[r_s, c_s : c_e, 0] = c1 \n",
    "            decompressed[r_s, c_s : c_e, 1] = c2 \n",
    "            decompressed[r_s, c_s : c_e, 2] = c3\n",
    "            \n",
    "        elif r_s + 1 == r_e:\n",
    "             \n",
    "            decompressed[r_s, c_s :, 0] = c1\n",
    "            decompressed[r_s, c_s :, 1] = c2\n",
    "            decompressed[r_s, c_s :, 2] = c3    \n",
    "                        \n",
    "            decompressed[r_e, : c_e, 0] = c1 \n",
    "            decompressed[r_e, : c_e, 1] = c2 \n",
    "            decompressed[r_e, : c_e, 2] = c3 \n",
    "            \n",
    "        else:\n",
    "            \n",
    "            decompressed[r_s, c_s :, 0] = c1\n",
    "            decompressed[r_s, c_s :, 1] = c2\n",
    "            decompressed[r_s, c_s :, 2] = c3    \n",
    "            \n",
    "            decompressed[r_s + 1 : r_e - 1, :, 0] = c1\n",
    "            decompressed[r_s + 1 : r_e - 1, :, 1] = c2\n",
    "            decompressed[r_s + 1 : r_e - 1, :, 2] = c3\n",
    "            \n",
    "            decompressed[r_e, : c_e, 0] = c1 \n",
    "            decompressed[r_e, : c_e, 1] = c2 \n",
    "            decompressed[r_e, : c_e, 2] = c3 \n",
    "         \n",
    "    return decompressed"
   ]
  },
  {
   "cell_type": "code",
   "execution_count": 301,
   "metadata": {},
   "outputs": [
    {
     "name": "stdout",
     "output_type": "stream",
     "text": [
      "[[  0   0 122 580  72 145 217]\n",
      " [123   0 245 580   0   0   0]\n",
      " [246   0 368 580 255 255 255]]\n",
      "[[121   0   0]\n",
      " [121   0   1]\n",
      " [121   0   2]\n",
      " [121   1   0]\n",
      " [121   1   1]\n",
      " [121   1   2]\n",
      " [121   2   0]\n",
      " [121   2   1]\n",
      " [121   2   2]\n",
      " [121   3   0]\n",
      " [121   3   1]\n",
      " [121   3   2]\n",
      " [121   4   0]\n",
      " [121   4   1]\n",
      " [121   4   2]\n",
      " [121   5   0]\n",
      " [121   5   1]\n",
      " [121   5   2]\n",
      " [121   6   0]\n",
      " [121   6   1]\n",
      " [121   6   2]\n",
      " [121   7   0]\n",
      " [121   7   1]\n",
      " [121   7   2]\n",
      " [121   8   0]\n",
      " [121   8   1]\n",
      " [121   8   2]\n",
      " [121   9   0]\n",
      " [121   9   1]\n",
      " [121   9   2]\n",
      " [121  10   0]\n",
      " [121  10   1]\n",
      " [121  10   2]\n",
      " [121  11   0]\n",
      " [121  11   1]\n",
      " [121  11   2]\n",
      " [121  12   0]\n",
      " [121  12   1]\n",
      " [121  12   2]\n",
      " [121  13   0]\n",
      " [121  13   1]\n",
      " [121  13   2]\n",
      " [121  14   0]\n",
      " [121  14   1]\n",
      " [121  14   2]\n",
      " [121  15   0]\n",
      " [121  15   1]\n",
      " [121  15   2]\n",
      " [121  16   0]\n",
      " [121  16   1]]\n"
     ]
    }
   ],
   "source": [
    "image = images[17]\n",
    "cm = compress_image2(image)\n",
    "dc = decompress_image2(cm)\n",
    "print(cm)\n",
    "print(np.argwhere(image != dc)[:50])"
   ]
  },
  {
   "cell_type": "code",
   "execution_count": 259,
   "metadata": {},
   "outputs": [],
   "source": [
    "# TO SKIP -- boring\n",
    "\n",
    "# choose specified number of random images\n",
    "path_to_image_dir = r'C:\\Users\\hornu\\OneDrive\\Documents\\repos\\flags\\data\\clean-data\\images'\n",
    "paths = np.array([os.path.join(path_to_image_dir, x) for x in os.listdir(path_to_image_dir)])\n",
    "\n",
    "n_sel = 50\n",
    "idcs_sel = np.random.choice(len(paths), n_sel, replace = False)\n",
    "\n",
    "images = [ImageScalerCleaner().clean(imread(paths[idx])) for idx in idcs_sel]"
   ]
  },
  {
   "cell_type": "code",
   "execution_count": 257,
   "metadata": {},
   "outputs": [],
   "source": [
    "# TO SKIP -- boring\n",
    "\n",
    "ratios_1 = np.zeros(n_sel, dtype = np.float32)\n",
    "times_1 = np.zeros(n_sel, dtype = np.float32)\n",
    "\n",
    "for idx, image in enumerate(images):\n",
    "    \n",
    "    # times\n",
    "    t_start = time.perf_counter()\n",
    "    compressed_dump = lzma.compress(pickle.dumps(image))\n",
    "    recon = pickle.loads(lzma.decompress(compressed_dump))\n",
    "    t_end = time.perf_counter()\n",
    "    \n",
    "    times_1[idx] = t_end - t_start\n",
    "    \n",
    "    # compression ratio\n",
    "    ratios_1[idx] = len(compressed_dump) / (image.size * 2) "
   ]
  },
  {
   "cell_type": "code",
   "execution_count": 238,
   "metadata": {},
   "outputs": [],
   "source": [
    "# TO SKIP -- boring\n",
    "\n",
    "ratios_2 = np.zeros(n_sel, dtype = np.float32)\n",
    "times_2 = np.zeros(n_sel, dtype = np.float32)\n",
    "\n",
    "for idx, image in enumerate(images):\n",
    "    \n",
    "    # times\n",
    "    t_start = time.perf_counter()\n",
    "    compressed_dump = pickle.dumps(compress_image2(image))\n",
    "    recon = decompress_image2(pickle.loads(compressed_dump))\n",
    "    t_end = time.perf_counter()\n",
    "    \n",
    "    times_2[idx] = t_end - t_start\n",
    "    \n",
    "    # compression ratio\n",
    "    ratios_2[idx] = len(compressed_dump) / (image.size * 2) "
   ]
  },
  {
   "cell_type": "code",
   "execution_count": 239,
   "metadata": {},
   "outputs": [
    {
     "data": {
      "image/png": "[encoded data removed]",
      "text/plain": [
       "<Figure size 576x576 with 4 Axes>"
      ]
     },
     "metadata": {
      "needs_background": "light"
     },
     "output_type": "display_data"
    }
   ],
   "source": [
    "fig, axes = plt.subplots(2, 2)\n",
    "fig.set_size_inches(8, 8)\n",
    "\n",
    "axes[0,0].grid(True); axes[1,0].grid(True); axes[0,1].grid(True); axes[1,1].grid(True)\n",
    "\n",
    "axes[0,0].scatter(np.arange(ratios_2.size), ratios_2 /ratios_1, c = 'navy')\n",
    "axes[0,1].scatter(np.arange(times_2.size), times_2 / times_1, c = 'cornflowerblue')\n",
    "\n",
    "plt.show()"
   ]
  }
 ],
 "metadata": {
  "kernelspec": {
   "display_name": "Python 3",
   "language": "python",
   "name": "python3"
  },
  "language_info": {
   "codemirror_mode": {
    "name": "ipython",
    "version": 3
   },
   "file_extension": ".py",
   "mimetype": "text/x-python",
   "name": "python",
   "nbconvert_exporter": "python",
   "pygments_lexer": "ipython3",
   "version": "3.6.6"
  }
 },
 "nbformat": 4,
 "nbformat_minor": 2
}

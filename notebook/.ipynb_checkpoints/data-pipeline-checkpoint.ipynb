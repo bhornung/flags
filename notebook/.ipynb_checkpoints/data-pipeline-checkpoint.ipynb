{
 "cells": [
  {
   "cell_type": "code",
   "execution_count": 1,
   "metadata": {},
   "outputs": [],
   "source": [
    "import bz2\n",
    "import pickle\n",
    "import json\n",
    "import os.path\n",
    "import sys\n",
    "\n",
    "from imageio import imread\n",
    "import numpy as np\n",
    "\n",
    "import numba as nb\n",
    "nb_u1 = nb.types.uint8\n",
    "nb_u2 = nb.types.uint16\n",
    "\n",
    "import pymongo"
   ]
  },
  {
   "cell_type": "markdown",
   "metadata": {},
   "source": [
    "A concise document based database is created in which textual, numeric and image data are stored.\n",
    "\n",
    "\n",
    "## Motivation\n",
    "\n",
    "\n"
   ]
  },
  {
   "cell_type": "markdown",
   "metadata": {},
   "source": [
    "## Database design\n",
    "\n",
    "\n",
    "### Preliminary data structure\n",
    "\n",
    "The current database, `flags` "
   ]
  },
  {
   "cell_type": "code",
   "execution_count": 2,
   "metadata": {},
   "outputs": [
    {
     "name": "stdout",
     "output_type": "stream",
     "text": [
      "['admin', 'config', 'flags', 'local']\n"
     ]
    }
   ],
   "source": [
    "mg_client = pymongo.MongoClient(\"mongodb://localhost:27017/\")\n",
    "print(mg_client.list_database_names())"
   ]
  },
  {
   "cell_type": "markdown",
   "metadata": {},
   "source": [
    "consists of a single collection, `raw_countries`:"
   ]
  },
  {
   "cell_type": "code",
   "execution_count": 3,
   "metadata": {},
   "outputs": [
    {
     "name": "stdout",
     "output_type": "stream",
     "text": [
      "['raw_countries']\n"
     ]
    }
   ],
   "source": [
    "db_flag = mg_client[\"flags\"]\n",
    "print(db_flag.list_collection_names())"
   ]
  },
  {
   "cell_type": "markdown",
   "metadata": {},
   "source": [
    "in which each document lists the attributes of a particular country:"
   ]
  },
  {
   "cell_type": "code",
   "execution_count": 4,
   "metadata": {},
   "outputs": [
    {
     "data": {
      "text/plain": [
       "{'_id': ObjectId('5cadf3ff351ab01d60a664b2'),\n",
       " 'adapted': 2004,\n",
       " 'path': 'C:\\\\Users\\\\hornu\\\\OneDrive\\\\Documents\\\\repos\\\\flags\\\\data\\\\clean-data\\\\images\\\\afghanistan.png',\n",
       " 'code': 'AF',\n",
       " 'religion': 'ISLAM',\n",
       " 'continent': 'ASIA',\n",
       " 'founded': 9999,\n",
       " 'independent': '1823',\n",
       " 'neighbours': ['CN', 'IR', 'PK', 'TJ', 'TM', 'UZ'],\n",
       " 'name': 'AFGHANISTAN'}"
      ]
     },
     "execution_count": 4,
     "metadata": {},
     "output_type": "execute_result"
    }
   ],
   "source": [
    "cl_flag = db_flag[\"raw_countries\"]\n",
    "cl_flag.find_one({})"
   ]
  },
  {
   "cell_type": "markdown",
   "metadata": {},
   "source": [
    "The fields are either pertaining to the country herself:\n",
    "\n",
    "* `name` : name of the country\n",
    "* `code` : two-letter iso code of the country\n",
    "* `founded` : year in which her or her ancestor was founded. 9999 stands for missing data\n",
    "* `independent` : year in which the country became independent\n",
    "* `religion` : predominant religion in the country\n",
    "* `continent` : continent on which the major landmass of the country situated\n",
    "* `neighbours` : the two letter iso codes of its neighbours\n",
    "\n",
    "or to its flag:\n",
    "* `adapted` : year in which the current flag was introduced\n",
    "* `path` : path to the `png` image of the flag in local store\n",
    "\n",
    "### Design goals\n",
    "\n",
    "We wish to store these pieces of information in a more orderly fashion. The fields relevant to the country should be contained in a document separated from those relevant to the flag itself. Two collections will thus be created \n",
    "\n",
    "* `countries` and\n",
    "* `flags`\n",
    "\n",
    "#### Country document\n",
    "\n",
    "A country document will have three main fields\n",
    "* `_id` : unique id\n",
    "* `code` : two-letter iso code of the country\n",
    "* `data` : all other fields\n",
    "    * `name` : name of the country\n",
    "    * `founded` :  year in which her or her ancestor was founded\n",
    "    * ...\n",
    "    \n",
    "The country codes of the `neighbours` list will be replaced by the respective `_id`-s. This implies, the collection must be built in two passes.\n",
    "\n",
    "#### Flag document\n",
    "\n",
    "The flags are stored in a different collection. The schema of a document is the following\n",
    "\n",
    "* `_id` : unique id\n",
    "* `code` : two letter country code\n",
    "* `data` : information on the flag\n",
    "    * `adapted` : year in which the current flag was introduced\n",
    "    * `colours` : a dictionary in which the flag's constituent colours are listed along with their weights\n",
    "    * `dimensions` : a dictionary of height and width\n",
    "    * `canvas` : the flag itself\n",
    "    \n",
    "\n",
    "## Implementation\n",
    "\n",
    "We set out to implement all the transformations that are required to create the new database.\n",
    "\n",
    "### Flags\n",
    "\n",
    "The main issue is to find an efficient format for storing the canvas of the flag. We went at [great length](https://bhornung.github.io/python/2019/04/09/flags-1.html) to rig the flag of spurious colours, therefore any lossy compression is out of question. \n",
    "\n",
    "#### Copressing the flag\n",
    "\n",
    "The cleaned image is a 3D `uint8` numpy array.  Let us assume an average flag has $500 \\cot 1000$ pixels. Each pixel consists of three meaningful channels (R, G, B). It is then represented in the memory as an array of of size $500 \\cdot 1000 \\cdot 3 = 1.5 \\cdot 10^{6}$ This corresponds to 1.5MBs per image. We wish to make our objects as small as possible so that they travel through the network and memory quickly.\n",
    "\n",
    "There are multiple paths to achieve this:\n",
    "* `numpy` array $\\rightarrow$ pickled object $\\rightarrow$ `bzip`-ed object $\\rightarrow$ Binary field in mongodb\n",
    "* `numpy` array $\\rightarrow$ compressed/modified `numpy` array $\\rightarrow$ pickled object $\\rightarrow$ Binary field in `mongodb`\n",
    "* `numpy` array $\\rightarrow$ compressed/modified `numpy` array $\\rightarrow$ pickled object $\\rightarrow$ `bzip`-ed object $\\rightarrow$ Binary field in `mongodb`\n",
    "\n",
    "In the first route the pickled array is compressed. These images compress really well, for there are many similar byte sequences corresponding to identical colours. The drawback is that the image has to be manipulated by `bz2` which can be slow.\n",
    "\n",
    "Following he second path one modifies the numpy array to an other one of considerably smaller size whilst retaining all the spatial information. This array is then pickled. In this case the unpickled object can be used by numpy straight away.\n",
    "\n",
    "The third one might be overkill. "
   ]
  },
  {
   "cell_type": "code",
   "execution_count": 32,
   "metadata": {},
   "outputs": [],
   "source": [
    "@nb.jit(nopython = True)\n",
    "def compress_image(X):\n",
    "    \n",
    "    ir, jr, _ = X.shape\n",
    "    coo = []\n",
    "    \n",
    "    for i in range(ir):\n",
    "        \n",
    "        for j in range(0, jr - 1):\n",
    "            \n",
    "            # append end of color region and colour\n",
    "            if X[i, j, 0] != X[i, j+1, 0] or \\\n",
    "               X[i, j, 1] != X[i, j+1, 1] or \\\n",
    "               X[i, j, 2] != X[i, j+1, 2] :\n",
    "                \n",
    "                coo.append([i, j + 1, X[i, j, 0], X[i, j, 1], X[i, j, 2]])\n",
    "        \n",
    "        # last colour in a row\n",
    "        coo.append([i, j + 2, X[i, -1, 0], X[i, -1, 1], X[i, -1, 2]])      \n",
    "          \n",
    "    # convert to np.ndarray\n",
    "    compressed = np.array(coo, dtype = np.uint16)\n",
    "    \n",
    "    return compressed"
   ]
  },
  {
   "cell_type": "code",
   "execution_count": 33,
   "metadata": {},
   "outputs": [],
   "source": [
    "@nb.jit(nopython = True)\n",
    "def decompress_images(X):\n",
    "    \n",
    "    h = np.int64(X[-1, 0] + 1)\n",
    "    v = np.int64(X[-1, 1])\n",
    "    \n",
    "    decompressed = np.zeros((h, v, 3), dtype = np.uint16)\n",
    "     \n",
    "    i_old = -1\n",
    "    j_old = 0\n",
    "    \n",
    "    for k in range(X.shape[0]):\n",
    "        \n",
    "        i = X[k,0]\n",
    "        j = X[k,1] \n",
    "        c1 = X[k,2] \n",
    "        c2 = X[k,3]\n",
    "        c3 = X[k,4]\n",
    "        \n",
    "        if i != i_old:\n",
    "            j_old = 0\n",
    "        \n",
    "        decompressed[i, j_old : j, 0] = c1\n",
    "        decompressed[i, j_old : j, 1] = c2\n",
    "        decompressed[i, j_old : j, 2] = c3\n",
    "        i_old, j_old = i, j\n",
    "\n",
    "    return decompressed"
   ]
  },
  {
   "cell_type": "code",
   "execution_count": 7,
   "metadata": {},
   "outputs": [],
   "source": [
    "image = imread(r'C:\\Users\\hornu\\OneDrive\\Documents\\repos\\flags\\data\\clean-data\\images\\papua new guinea.png')"
   ]
  },
  {
   "cell_type": "code",
   "execution_count": 35,
   "metadata": {},
   "outputs": [],
   "source": [
    "ec = compress_image(image)\n",
    "dc = decompress_images(ec)"
   ]
  },
  {
   "cell_type": "code",
   "execution_count": 39,
   "metadata": {},
   "outputs": [
    {
     "name": "stdout",
     "output_type": "stream",
     "text": [
      "327 µs ± 1.16 µs per loop (mean ± std. dev. of 7 runs, 1000 loops each)\n"
     ]
    }
   ],
   "source": [
    "%%timeit\n",
    "_ = pickle.dumps(image)"
   ]
  },
  {
   "cell_type": "code",
   "execution_count": 40,
   "metadata": {},
   "outputs": [
    {
     "name": "stdout",
     "output_type": "stream",
     "text": [
      "65.6 ms ± 2.57 ms per loop (mean ± std. dev. of 7 runs, 10 loops each)\n"
     ]
    }
   ],
   "source": [
    "%%timeit\n",
    "_ = bz2.compress(pickle.dumps(image))"
   ]
  },
  {
   "cell_type": "code",
   "execution_count": 41,
   "metadata": {},
   "outputs": [
    {
     "name": "stdout",
     "output_type": "stream",
     "text": [
      "69.8 ms ± 350 µs per loop (mean ± std. dev. of 7 runs, 10 loops each)\n"
     ]
    }
   ],
   "source": [
    "%%timeit\n",
    "_ = bz2.compress(pickle.dumps(image))\n",
    "__ = pickle.loads(bz2.decompress(_))"
   ]
  },
  {
   "cell_type": "code",
   "execution_count": 42,
   "metadata": {},
   "outputs": [
    {
     "name": "stdout",
     "output_type": "stream",
     "text": [
      "1.22 ms ± 4.63 µs per loop (mean ± std. dev. of 7 runs, 1000 loops each)\n"
     ]
    }
   ],
   "source": [
    "%%timeit\n",
    "_ = compress_image(image)"
   ]
  },
  {
   "cell_type": "code",
   "execution_count": 43,
   "metadata": {},
   "outputs": [
    {
     "name": "stdout",
     "output_type": "stream",
     "text": [
      "1.23 ms ± 13 µs per loop (mean ± std. dev. of 7 runs, 1000 loops each)\n"
     ]
    }
   ],
   "source": [
    "%%timeit\n",
    "_ = pickle.dumps(compress_image(image))"
   ]
  },
  {
   "cell_type": "code",
   "execution_count": 44,
   "metadata": {},
   "outputs": [
    {
     "name": "stdout",
     "output_type": "stream",
     "text": [
      "2.04 ms ± 49.2 µs per loop (mean ± std. dev. of 7 runs, 100 loops each)\n"
     ]
    }
   ],
   "source": [
    "%%timeit\n",
    "_ = pickle.dumps(compress_image(image))\n",
    "__ = decompress_images(pickle.loads(_))"
   ]
  }
 ],
 "metadata": {
  "kernelspec": {
   "display_name": "Python 3",
   "language": "python",
   "name": "python3"
  },
  "language_info": {
   "codemirror_mode": {
    "name": "ipython",
    "version": 3
   },
   "file_extension": ".py",
   "mimetype": "text/x-python",
   "name": "python",
   "nbconvert_exporter": "python",
   "pygments_lexer": "ipython3",
   "version": "3.6.6"
  }
 },
 "nbformat": 4,
 "nbformat_minor": 2
}
